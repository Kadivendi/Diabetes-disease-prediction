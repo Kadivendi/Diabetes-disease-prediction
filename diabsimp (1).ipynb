{
 "cells": [
  {
   "cell_type": "code",
   "execution_count": 289,
   "metadata": {},
   "outputs": [],
   "source": [
    "import numpy as np # linear algebra\n",
    "import pandas as pd # data processing, CSV file I/O (e.g. pd.read_csv)\n",
    "import matplotlib.pyplot as plt\n",
    "%matplotlib inline\n",
    "import os\n",
    "os.path.isfile('/Users/rohith kadivendi/Desktop/diabetes.csv')\n",
    "from subprocess import check_output\n"
   ]
  },
  {
   "cell_type": "code",
   "execution_count": 290,
   "metadata": {},
   "outputs": [
    {
     "data": {
      "text/html": [
       "<div>\n",
       "<style scoped>\n",
       "    .dataframe tbody tr th:only-of-type {\n",
       "        vertical-align: middle;\n",
       "    }\n",
       "\n",
       "    .dataframe tbody tr th {\n",
       "        vertical-align: top;\n",
       "    }\n",
       "\n",
       "    .dataframe thead th {\n",
       "        text-align: right;\n",
       "    }\n",
       "</style>\n",
       "<table border=\"1\" class=\"dataframe\">\n",
       "  <thead>\n",
       "    <tr style=\"text-align: right;\">\n",
       "      <th></th>\n",
       "      <th>Pregnancies</th>\n",
       "      <th>Glucose</th>\n",
       "      <th>BloodPressure</th>\n",
       "      <th>SkinThickness</th>\n",
       "      <th>Insulin</th>\n",
       "      <th>BMI</th>\n",
       "      <th>DiabetesPedigreeFunction</th>\n",
       "      <th>Age</th>\n",
       "      <th>Outcome</th>\n",
       "    </tr>\n",
       "  </thead>\n",
       "  <tbody>\n",
       "    <tr>\n",
       "      <th>632</th>\n",
       "      <td>2</td>\n",
       "      <td>111</td>\n",
       "      <td>60</td>\n",
       "      <td>0</td>\n",
       "      <td>0</td>\n",
       "      <td>26.2</td>\n",
       "      <td>0.343</td>\n",
       "      <td>23</td>\n",
       "      <td>0</td>\n",
       "    </tr>\n",
       "    <tr>\n",
       "      <th>554</th>\n",
       "      <td>1</td>\n",
       "      <td>84</td>\n",
       "      <td>64</td>\n",
       "      <td>23</td>\n",
       "      <td>115</td>\n",
       "      <td>36.9</td>\n",
       "      <td>0.471</td>\n",
       "      <td>28</td>\n",
       "      <td>0</td>\n",
       "    </tr>\n",
       "    <tr>\n",
       "      <th>549</th>\n",
       "      <td>4</td>\n",
       "      <td>189</td>\n",
       "      <td>110</td>\n",
       "      <td>31</td>\n",
       "      <td>0</td>\n",
       "      <td>28.5</td>\n",
       "      <td>0.680</td>\n",
       "      <td>37</td>\n",
       "      <td>0</td>\n",
       "    </tr>\n",
       "    <tr>\n",
       "      <th>290</th>\n",
       "      <td>0</td>\n",
       "      <td>78</td>\n",
       "      <td>88</td>\n",
       "      <td>29</td>\n",
       "      <td>40</td>\n",
       "      <td>36.9</td>\n",
       "      <td>0.434</td>\n",
       "      <td>21</td>\n",
       "      <td>0</td>\n",
       "    </tr>\n",
       "    <tr>\n",
       "      <th>206</th>\n",
       "      <td>8</td>\n",
       "      <td>196</td>\n",
       "      <td>76</td>\n",
       "      <td>29</td>\n",
       "      <td>280</td>\n",
       "      <td>37.5</td>\n",
       "      <td>0.605</td>\n",
       "      <td>57</td>\n",
       "      <td>1</td>\n",
       "    </tr>\n",
       "  </tbody>\n",
       "</table>\n",
       "</div>"
      ],
      "text/plain": [
       "     Pregnancies  Glucose  BloodPressure  SkinThickness  Insulin   BMI  \\\n",
       "632            2      111             60              0        0  26.2   \n",
       "554            1       84             64             23      115  36.9   \n",
       "549            4      189            110             31        0  28.5   \n",
       "290            0       78             88             29       40  36.9   \n",
       "206            8      196             76             29      280  37.5   \n",
       "\n",
       "     DiabetesPedigreeFunction  Age  Outcome  \n",
       "632                     0.343   23        0  \n",
       "554                     0.471   28        0  \n",
       "549                     0.680   37        0  \n",
       "290                     0.434   21        0  \n",
       "206                     0.605   57        1  "
      ]
     },
     "execution_count": 290,
     "metadata": {},
     "output_type": "execute_result"
    }
   ],
   "source": [
    "data = pd.read_csv('C:/Users/rohith kadivendi/Desktop/diabetes.csv')\n",
    "data.sample(n=5)"
   ]
  },
  {
   "cell_type": "code",
   "execution_count": 291,
   "metadata": {},
   "outputs": [
    {
     "name": "stdout",
     "output_type": "stream",
     "text": [
      "Index(['Pregnancies', 'Glucose', 'BloodPressure', 'SkinThickness', 'Insulin',\n",
      "       'BMI', 'DiabetesPedigreeFunction', 'Age', 'Outcome'],\n",
      "      dtype='object')\n"
     ]
    }
   ],
   "source": [
    "print(data.columns)"
   ]
  },
  {
   "cell_type": "code",
   "execution_count": 292,
   "metadata": {},
   "outputs": [
    {
     "data": {
      "text/html": [
       "<div>\n",
       "<style scoped>\n",
       "    .dataframe tbody tr th:only-of-type {\n",
       "        vertical-align: middle;\n",
       "    }\n",
       "\n",
       "    .dataframe tbody tr th {\n",
       "        vertical-align: top;\n",
       "    }\n",
       "\n",
       "    .dataframe thead th {\n",
       "        text-align: right;\n",
       "    }\n",
       "</style>\n",
       "<table border=\"1\" class=\"dataframe\">\n",
       "  <thead>\n",
       "    <tr style=\"text-align: right;\">\n",
       "      <th></th>\n",
       "      <th>Pregnancies</th>\n",
       "      <th>Glucose</th>\n",
       "      <th>BloodPressure</th>\n",
       "      <th>SkinThickness</th>\n",
       "      <th>Insulin</th>\n",
       "      <th>BMI</th>\n",
       "      <th>DiabetesPedigreeFunction</th>\n",
       "      <th>Age</th>\n",
       "      <th>Outcome</th>\n",
       "    </tr>\n",
       "  </thead>\n",
       "  <tbody>\n",
       "    <tr>\n",
       "      <th>566</th>\n",
       "      <td>0.058824</td>\n",
       "      <td>0.497487</td>\n",
       "      <td>0.590164</td>\n",
       "      <td>0.303030</td>\n",
       "      <td>0.021277</td>\n",
       "      <td>0.575261</td>\n",
       "      <td>0.142613</td>\n",
       "      <td>0.000000</td>\n",
       "      <td>0.0</td>\n",
       "    </tr>\n",
       "    <tr>\n",
       "      <th>697</th>\n",
       "      <td>0.000000</td>\n",
       "      <td>0.497487</td>\n",
       "      <td>0.000000</td>\n",
       "      <td>0.000000</td>\n",
       "      <td>0.000000</td>\n",
       "      <td>0.372578</td>\n",
       "      <td>0.074722</td>\n",
       "      <td>0.016667</td>\n",
       "      <td>0.0</td>\n",
       "    </tr>\n",
       "    <tr>\n",
       "      <th>245</th>\n",
       "      <td>0.529412</td>\n",
       "      <td>0.924623</td>\n",
       "      <td>0.696721</td>\n",
       "      <td>0.151515</td>\n",
       "      <td>0.000000</td>\n",
       "      <td>0.447094</td>\n",
       "      <td>0.484629</td>\n",
       "      <td>0.466667</td>\n",
       "      <td>1.0</td>\n",
       "    </tr>\n",
       "    <tr>\n",
       "      <th>240</th>\n",
       "      <td>0.058824</td>\n",
       "      <td>0.457286</td>\n",
       "      <td>0.524590</td>\n",
       "      <td>0.242424</td>\n",
       "      <td>0.000000</td>\n",
       "      <td>0.435171</td>\n",
       "      <td>0.048676</td>\n",
       "      <td>0.000000</td>\n",
       "      <td>0.0</td>\n",
       "    </tr>\n",
       "    <tr>\n",
       "      <th>4</th>\n",
       "      <td>0.000000</td>\n",
       "      <td>0.688442</td>\n",
       "      <td>0.327869</td>\n",
       "      <td>0.353535</td>\n",
       "      <td>0.198582</td>\n",
       "      <td>0.642325</td>\n",
       "      <td>0.943638</td>\n",
       "      <td>0.200000</td>\n",
       "      <td>1.0</td>\n",
       "    </tr>\n",
       "  </tbody>\n",
       "</table>\n",
       "</div>"
      ],
      "text/plain": [
       "     Pregnancies   Glucose  BloodPressure  SkinThickness   Insulin       BMI  \\\n",
       "566     0.058824  0.497487       0.590164       0.303030  0.021277  0.575261   \n",
       "697     0.000000  0.497487       0.000000       0.000000  0.000000  0.372578   \n",
       "245     0.529412  0.924623       0.696721       0.151515  0.000000  0.447094   \n",
       "240     0.058824  0.457286       0.524590       0.242424  0.000000  0.435171   \n",
       "4       0.000000  0.688442       0.327869       0.353535  0.198582  0.642325   \n",
       "\n",
       "     DiabetesPedigreeFunction       Age  Outcome  \n",
       "566                  0.142613  0.000000      0.0  \n",
       "697                  0.074722  0.016667      0.0  \n",
       "245                  0.484629  0.466667      1.0  \n",
       "240                  0.048676  0.000000      0.0  \n",
       "4                    0.943638  0.200000      1.0  "
      ]
     },
     "execution_count": 292,
     "metadata": {},
     "output_type": "execute_result"
    }
   ],
   "source": [
    "df = data[['Pregnancies', 'Glucose', 'BloodPressure', 'SkinThickness', 'Insulin',\n",
    "       'BMI', 'DiabetesPedigreeFunction', 'Age', 'Outcome']].apply(lambda x: (x - x.min()) / (x.max() - x.min()))\n",
    "df.sample(n=5)"
   ]
  },
  {
   "cell_type": "code",
   "execution_count": 293,
   "metadata": {},
   "outputs": [
    {
     "data": {
      "text/html": [
       "<div>\n",
       "<style scoped>\n",
       "    .dataframe tbody tr th:only-of-type {\n",
       "        vertical-align: middle;\n",
       "    }\n",
       "\n",
       "    .dataframe tbody tr th {\n",
       "        vertical-align: top;\n",
       "    }\n",
       "\n",
       "    .dataframe thead th {\n",
       "        text-align: right;\n",
       "    }\n",
       "</style>\n",
       "<table border=\"1\" class=\"dataframe\">\n",
       "  <thead>\n",
       "    <tr style=\"text-align: right;\">\n",
       "      <th></th>\n",
       "      <th>Pregnancies</th>\n",
       "      <th>Glucose</th>\n",
       "      <th>BloodPressure</th>\n",
       "      <th>SkinThickness</th>\n",
       "      <th>Insulin</th>\n",
       "      <th>BMI</th>\n",
       "      <th>DiabetesPedigreeFunction</th>\n",
       "      <th>Age</th>\n",
       "      <th>Outcome</th>\n",
       "      <th>train</th>\n",
       "    </tr>\n",
       "  </thead>\n",
       "  <tbody>\n",
       "    <tr>\n",
       "      <th>720</th>\n",
       "      <td>0.235294</td>\n",
       "      <td>0.417085</td>\n",
       "      <td>0.704918</td>\n",
       "      <td>0.191919</td>\n",
       "      <td>0.000000</td>\n",
       "      <td>0.436662</td>\n",
       "      <td>0.102050</td>\n",
       "      <td>0.216667</td>\n",
       "      <td>0.0</td>\n",
       "      <td>True</td>\n",
       "    </tr>\n",
       "    <tr>\n",
       "      <th>470</th>\n",
       "      <td>0.058824</td>\n",
       "      <td>0.723618</td>\n",
       "      <td>0.672131</td>\n",
       "      <td>0.404040</td>\n",
       "      <td>0.000000</td>\n",
       "      <td>0.615499</td>\n",
       "      <td>0.225875</td>\n",
       "      <td>0.116667</td>\n",
       "      <td>0.0</td>\n",
       "      <td>True</td>\n",
       "    </tr>\n",
       "    <tr>\n",
       "      <th>1</th>\n",
       "      <td>0.058824</td>\n",
       "      <td>0.427136</td>\n",
       "      <td>0.540984</td>\n",
       "      <td>0.292929</td>\n",
       "      <td>0.000000</td>\n",
       "      <td>0.396423</td>\n",
       "      <td>0.116567</td>\n",
       "      <td>0.166667</td>\n",
       "      <td>0.0</td>\n",
       "      <td>True</td>\n",
       "    </tr>\n",
       "    <tr>\n",
       "      <th>290</th>\n",
       "      <td>0.000000</td>\n",
       "      <td>0.391960</td>\n",
       "      <td>0.721311</td>\n",
       "      <td>0.292929</td>\n",
       "      <td>0.047281</td>\n",
       "      <td>0.549925</td>\n",
       "      <td>0.152007</td>\n",
       "      <td>0.000000</td>\n",
       "      <td>0.0</td>\n",
       "      <td>False</td>\n",
       "    </tr>\n",
       "    <tr>\n",
       "      <th>318</th>\n",
       "      <td>0.176471</td>\n",
       "      <td>0.577889</td>\n",
       "      <td>0.540984</td>\n",
       "      <td>0.393939</td>\n",
       "      <td>0.165485</td>\n",
       "      <td>0.567809</td>\n",
       "      <td>0.030743</td>\n",
       "      <td>0.116667</td>\n",
       "      <td>0.0</td>\n",
       "      <td>True</td>\n",
       "    </tr>\n",
       "  </tbody>\n",
       "</table>\n",
       "</div>"
      ],
      "text/plain": [
       "     Pregnancies   Glucose  BloodPressure  SkinThickness   Insulin       BMI  \\\n",
       "720     0.235294  0.417085       0.704918       0.191919  0.000000  0.436662   \n",
       "470     0.058824  0.723618       0.672131       0.404040  0.000000  0.615499   \n",
       "1       0.058824  0.427136       0.540984       0.292929  0.000000  0.396423   \n",
       "290     0.000000  0.391960       0.721311       0.292929  0.047281  0.549925   \n",
       "318     0.176471  0.577889       0.540984       0.393939  0.165485  0.567809   \n",
       "\n",
       "     DiabetesPedigreeFunction       Age  Outcome  train  \n",
       "720                  0.102050  0.216667      0.0   True  \n",
       "470                  0.225875  0.116667      0.0   True  \n",
       "1                    0.116567  0.166667      0.0   True  \n",
       "290                  0.152007  0.000000      0.0  False  \n",
       "318                  0.030743  0.116667      0.0   True  "
      ]
     },
     "execution_count": 293,
     "metadata": {},
     "output_type": "execute_result"
    }
   ],
   "source": [
    "train_test_per = 80/100.0\n",
    "df['train'] = np.random.rand(len(df)) < train_test_per\n",
    "df.sample(n=5)"
   ]
  },
  {
   "cell_type": "code",
   "execution_count": 294,
   "metadata": {},
   "outputs": [
    {
     "data": {
      "text/html": [
       "<div>\n",
       "<style scoped>\n",
       "    .dataframe tbody tr th:only-of-type {\n",
       "        vertical-align: middle;\n",
       "    }\n",
       "\n",
       "    .dataframe tbody tr th {\n",
       "        vertical-align: top;\n",
       "    }\n",
       "\n",
       "    .dataframe thead th {\n",
       "        text-align: right;\n",
       "    }\n",
       "</style>\n",
       "<table border=\"1\" class=\"dataframe\">\n",
       "  <thead>\n",
       "    <tr style=\"text-align: right;\">\n",
       "      <th></th>\n",
       "      <th>Pregnancies</th>\n",
       "      <th>Glucose</th>\n",
       "      <th>BloodPressure</th>\n",
       "      <th>SkinThickness</th>\n",
       "      <th>Insulin</th>\n",
       "      <th>BMI</th>\n",
       "      <th>DiabetesPedigreeFunction</th>\n",
       "      <th>Age</th>\n",
       "      <th>Outcome</th>\n",
       "    </tr>\n",
       "  </thead>\n",
       "  <tbody>\n",
       "    <tr>\n",
       "      <th>103</th>\n",
       "      <td>0.058824</td>\n",
       "      <td>0.407035</td>\n",
       "      <td>0.590164</td>\n",
       "      <td>0.181818</td>\n",
       "      <td>0.047281</td>\n",
       "      <td>0.396423</td>\n",
       "      <td>0.087532</td>\n",
       "      <td>0.050000</td>\n",
       "      <td>0.0</td>\n",
       "    </tr>\n",
       "    <tr>\n",
       "      <th>150</th>\n",
       "      <td>0.058824</td>\n",
       "      <td>0.683417</td>\n",
       "      <td>0.606557</td>\n",
       "      <td>0.505051</td>\n",
       "      <td>0.241135</td>\n",
       "      <td>0.557377</td>\n",
       "      <td>0.137062</td>\n",
       "      <td>0.050000</td>\n",
       "      <td>0.0</td>\n",
       "    </tr>\n",
       "    <tr>\n",
       "      <th>740</th>\n",
       "      <td>0.647059</td>\n",
       "      <td>0.603015</td>\n",
       "      <td>0.655738</td>\n",
       "      <td>0.373737</td>\n",
       "      <td>0.177305</td>\n",
       "      <td>0.630402</td>\n",
       "      <td>0.301879</td>\n",
       "      <td>0.450000</td>\n",
       "      <td>1.0</td>\n",
       "    </tr>\n",
       "    <tr>\n",
       "      <th>119</th>\n",
       "      <td>0.235294</td>\n",
       "      <td>0.497487</td>\n",
       "      <td>0.622951</td>\n",
       "      <td>0.151515</td>\n",
       "      <td>0.060284</td>\n",
       "      <td>0.345753</td>\n",
       "      <td>0.061913</td>\n",
       "      <td>0.000000</td>\n",
       "      <td>0.0</td>\n",
       "    </tr>\n",
       "    <tr>\n",
       "      <th>416</th>\n",
       "      <td>0.058824</td>\n",
       "      <td>0.487437</td>\n",
       "      <td>0.557377</td>\n",
       "      <td>0.212121</td>\n",
       "      <td>0.000000</td>\n",
       "      <td>0.405365</td>\n",
       "      <td>0.434244</td>\n",
       "      <td>0.016667</td>\n",
       "      <td>0.0</td>\n",
       "    </tr>\n",
       "  </tbody>\n",
       "</table>\n",
       "</div>"
      ],
      "text/plain": [
       "     Pregnancies   Glucose  BloodPressure  SkinThickness   Insulin       BMI  \\\n",
       "103     0.058824  0.407035       0.590164       0.181818  0.047281  0.396423   \n",
       "150     0.058824  0.683417       0.606557       0.505051  0.241135  0.557377   \n",
       "740     0.647059  0.603015       0.655738       0.373737  0.177305  0.630402   \n",
       "119     0.235294  0.497487       0.622951       0.151515  0.060284  0.345753   \n",
       "416     0.058824  0.487437       0.557377       0.212121  0.000000  0.405365   \n",
       "\n",
       "     DiabetesPedigreeFunction       Age  Outcome  \n",
       "103                  0.087532  0.050000      0.0  \n",
       "150                  0.137062  0.050000      0.0  \n",
       "740                  0.301879  0.450000      1.0  \n",
       "119                  0.061913  0.000000      0.0  \n",
       "416                  0.434244  0.016667      0.0  "
      ]
     },
     "execution_count": 294,
     "metadata": {},
     "output_type": "execute_result"
    }
   ],
   "source": [
    "train = df[df.train == 1]\n",
    "train = train.drop('train', axis=1).sample(frac=1)\n",
    "train.sample(n=5)"
   ]
  },
  {
   "cell_type": "code",
   "execution_count": 295,
   "metadata": {},
   "outputs": [
    {
     "data": {
      "text/html": [
       "<div>\n",
       "<style scoped>\n",
       "    .dataframe tbody tr th:only-of-type {\n",
       "        vertical-align: middle;\n",
       "    }\n",
       "\n",
       "    .dataframe tbody tr th {\n",
       "        vertical-align: top;\n",
       "    }\n",
       "\n",
       "    .dataframe thead th {\n",
       "        text-align: right;\n",
       "    }\n",
       "</style>\n",
       "<table border=\"1\" class=\"dataframe\">\n",
       "  <thead>\n",
       "    <tr style=\"text-align: right;\">\n",
       "      <th></th>\n",
       "      <th>Pregnancies</th>\n",
       "      <th>Glucose</th>\n",
       "      <th>BloodPressure</th>\n",
       "      <th>SkinThickness</th>\n",
       "      <th>Insulin</th>\n",
       "      <th>BMI</th>\n",
       "      <th>DiabetesPedigreeFunction</th>\n",
       "      <th>Age</th>\n",
       "      <th>Outcome</th>\n",
       "    </tr>\n",
       "  </thead>\n",
       "  <tbody>\n",
       "    <tr>\n",
       "      <th>20</th>\n",
       "      <td>0.176471</td>\n",
       "      <td>0.633166</td>\n",
       "      <td>0.721311</td>\n",
       "      <td>0.414141</td>\n",
       "      <td>0.277778</td>\n",
       "      <td>0.585693</td>\n",
       "      <td>0.267293</td>\n",
       "      <td>0.100000</td>\n",
       "      <td>0.0</td>\n",
       "    </tr>\n",
       "    <tr>\n",
       "      <th>594</th>\n",
       "      <td>0.352941</td>\n",
       "      <td>0.618090</td>\n",
       "      <td>0.590164</td>\n",
       "      <td>0.454545</td>\n",
       "      <td>0.271868</td>\n",
       "      <td>0.500745</td>\n",
       "      <td>0.279675</td>\n",
       "      <td>0.216667</td>\n",
       "      <td>0.0</td>\n",
       "    </tr>\n",
       "    <tr>\n",
       "      <th>86</th>\n",
       "      <td>0.764706</td>\n",
       "      <td>0.532663</td>\n",
       "      <td>0.590164</td>\n",
       "      <td>0.545455</td>\n",
       "      <td>0.000000</td>\n",
       "      <td>0.545455</td>\n",
       "      <td>0.042699</td>\n",
       "      <td>0.400000</td>\n",
       "      <td>0.0</td>\n",
       "    </tr>\n",
       "    <tr>\n",
       "      <th>602</th>\n",
       "      <td>0.058824</td>\n",
       "      <td>0.623116</td>\n",
       "      <td>0.606557</td>\n",
       "      <td>0.363636</td>\n",
       "      <td>0.000000</td>\n",
       "      <td>0.414307</td>\n",
       "      <td>0.009394</td>\n",
       "      <td>0.150000</td>\n",
       "      <td>0.0</td>\n",
       "    </tr>\n",
       "    <tr>\n",
       "      <th>676</th>\n",
       "      <td>0.529412</td>\n",
       "      <td>0.783920</td>\n",
       "      <td>0.704918</td>\n",
       "      <td>0.000000</td>\n",
       "      <td>0.000000</td>\n",
       "      <td>0.369598</td>\n",
       "      <td>0.064902</td>\n",
       "      <td>0.533333</td>\n",
       "      <td>1.0</td>\n",
       "    </tr>\n",
       "  </tbody>\n",
       "</table>\n",
       "</div>"
      ],
      "text/plain": [
       "     Pregnancies   Glucose  BloodPressure  SkinThickness   Insulin       BMI  \\\n",
       "20      0.176471  0.633166       0.721311       0.414141  0.277778  0.585693   \n",
       "594     0.352941  0.618090       0.590164       0.454545  0.271868  0.500745   \n",
       "86      0.764706  0.532663       0.590164       0.545455  0.000000  0.545455   \n",
       "602     0.058824  0.623116       0.606557       0.363636  0.000000  0.414307   \n",
       "676     0.529412  0.783920       0.704918       0.000000  0.000000  0.369598   \n",
       "\n",
       "     DiabetesPedigreeFunction       Age  Outcome  \n",
       "20                   0.267293  0.100000      0.0  \n",
       "594                  0.279675  0.216667      0.0  \n",
       "86                   0.042699  0.400000      0.0  \n",
       "602                  0.009394  0.150000      0.0  \n",
       "676                  0.064902  0.533333      1.0  "
      ]
     },
     "execution_count": 295,
     "metadata": {},
     "output_type": "execute_result"
    }
   ],
   "source": [
    "test = df[df.train == 0]\n",
    "test = test.drop('train', axis=1)\n",
    "test.sample(n=5)"
   ]
  },
  {
   "cell_type": "code",
   "execution_count": 296,
   "metadata": {},
   "outputs": [
    {
     "data": {
      "text/plain": [
       "array([[0.47058824, 0.52763819, 0.81967213, 0.36363636, 0.        ,\n",
       "        0.64530551, 0.06874466, 0.4       ],\n",
       "       [0.17647059, 0.58291457, 0.60655738, 0.15151515, 0.12411348,\n",
       "        0.39195231, 0.01238258, 0.05      ],\n",
       "       [0.23529412, 0.59296482, 0.57377049, 0.        , 0.        ,\n",
       "        0.66318927, 0.35269001, 0.08333333],\n",
       "       [0.17647059, 0.41708543, 0.47540984, 0.31313131, 0.0212766 ,\n",
       "        0.51117735, 0.11016225, 0.06666667],\n",
       "       [0.11764706, 0.43718593, 0.47540984, 0.16161616, 0.06146572,\n",
       "        0.48733234, 0.03757472, 0.06666667]])"
      ]
     },
     "execution_count": 296,
     "metadata": {},
     "output_type": "execute_result"
    }
   ],
   "source": [
    "X = train.values[:,:8]\n",
    "X[:5]"
   ]
  },
  {
   "cell_type": "code",
   "execution_count": 297,
   "metadata": {},
   "outputs": [
    {
     "data": {
      "text/plain": [
       "array([[1],\n",
       "       [0],\n",
       "       [0],\n",
       "       [0],\n",
       "       [0]])"
      ]
     },
     "execution_count": 297,
     "metadata": {},
     "output_type": "execute_result"
    }
   ],
   "source": [
    "targets = [[0],[1]]\n",
    "y = np.array([targets[int(x)] for x in train.values[:,8:9]])\n",
    "y[:5]"
   ]
  },
  {
   "cell_type": "code",
   "execution_count": 298,
   "metadata": {},
   "outputs": [
    {
     "data": {
      "text/plain": [
       "array([[ 0.10159581,  0.41629565, -0.41819052,  0.02165521,  0.78589391,\n",
       "         0.79258618, -0.74882938],\n",
       "       [-0.58551424, -0.89706559, -0.11838031, -0.94024758, -0.08633355,\n",
       "         0.2982881 , -0.44302543],\n",
       "       [ 0.3525098 ,  0.18172563, -0.95203624,  0.11770818, -0.48149511,\n",
       "        -0.16979761, -0.43294984],\n",
       "       [ 0.38627584, -0.11909256, -0.68626452,  0.08929804,  0.56062953,\n",
       "        -0.38727294, -0.55608423],\n",
       "       [-0.22405748,  0.8727673 ,  0.95199084,  0.34476735,  0.80566822,\n",
       "         0.69150174, -0.24401192],\n",
       "       [-0.81556598,  0.30682181,  0.11568152, -0.27687047, -0.54989099,\n",
       "        -0.18696017, -0.0621195 ],\n",
       "       [-0.46152884, -0.41641445, -0.0846272 ,  0.72106783,  0.17250581,\n",
       "        -0.43302428, -0.44404499],\n",
       "       [-0.09075585, -0.58917931, -0.59724258,  0.02807012, -0.82554126,\n",
       "        -0.03282894, -0.27564758]])"
      ]
     },
     "execution_count": 298,
     "metadata": {},
     "output_type": "execute_result"
    }
   ],
   "source": [
    "num_inputs = len(X[0])\n",
    "hidden_layer_neurons = 7\n",
    "np.random.seed(3)\n",
    "w1 = 2*np.random.random((num_inputs, hidden_layer_neurons)) - 1\n",
    "w1"
   ]
  },
  {
   "cell_type": "code",
   "execution_count": 299,
   "metadata": {},
   "outputs": [
    {
     "data": {
      "text/plain": [
       "array([[ 0.41537324,  0.49349245,  0.38218584,  0.37836083, -0.25279975],\n",
       "       [ 0.33626961, -0.32030267,  0.14558774, -0.34838568, -0.1097099 ],\n",
       "       [-0.87694214, -0.51464916,  0.94320521, -0.53883159,  0.38295502],\n",
       "       [ 0.30095372,  0.44787828, -0.04982278,  0.19332755, -0.86606115],\n",
       "       [-0.85487572, -0.60204795, -0.69627801, -0.79979131, -0.74141227],\n",
       "       [ 0.10655546, -0.62437035,  0.90420249,  0.36322356,  0.08203935],\n",
       "       [ 0.4143612 , -0.47222666,  0.85345137,  0.67838612,  0.452639  ]])"
      ]
     },
     "execution_count": 299,
     "metadata": {},
     "output_type": "execute_result"
    }
   ],
   "source": [
    "num_hid2 = 5\n",
    "\n",
    "w2 = 2*np.random.random((hidden_layer_neurons, num_hid2)) - 1\n",
    "w2"
   ]
  },
  {
   "cell_type": "code",
   "execution_count": 300,
   "metadata": {},
   "outputs": [
    {
     "data": {
      "text/plain": [
       "array([[-0.03952009,  0.68420637,  0.48950465],\n",
       "       [ 0.32065181,  0.82795053,  0.26733113],\n",
       "       [-0.26811883,  0.10568915, -0.60723885],\n",
       "       [-0.61585541,  0.45133925,  0.56987341],\n",
       "       [ 0.94419673,  0.70194283,  0.08718865]])"
      ]
     },
     "execution_count": 300,
     "metadata": {},
     "output_type": "execute_result"
    }
   ],
   "source": [
    "num_hid3=3\n",
    "\n",
    "w3=2*np.random.random((num_hid2, num_hid3)) - 1\n",
    "w3"
   ]
  },
  {
   "cell_type": "code",
   "execution_count": 301,
   "metadata": {},
   "outputs": [
    {
     "data": {
      "text/plain": [
       "array([[-0.82041826, -0.02225351],\n",
       "       [ 0.8558727 ,  0.5752364 ],\n",
       "       [-0.02981155, -0.08944128]])"
      ]
     },
     "execution_count": 301,
     "metadata": {},
     "output_type": "execute_result"
    }
   ],
   "source": [
    "num_hid4=2\n",
    "\n",
    "w4=2*np.random.random((num_hid3,num_hid4))-1\n",
    "w4  "
   ]
  },
  {
   "cell_type": "code",
   "execution_count": 302,
   "metadata": {},
   "outputs": [
    {
     "data": {
      "text/plain": [
       "array([[-0.56402846],\n",
       "       [-0.64557324]])"
      ]
     },
     "execution_count": 302,
     "metadata": {},
     "output_type": "execute_result"
    }
   ],
   "source": [
    "num_outputs = len(y[0])\n",
    "\n",
    "w5 = 2*np.random.random((num_hid4, num_outputs)) - 1\n",
    "w5"
   ]
  },
  {
   "cell_type": "code",
   "execution_count": 303,
   "metadata": {},
   "outputs": [
    {
     "name": "stdout",
     "output_type": "stream",
     "text": [
      "Error: 0.2516924748590746\n"
     ]
    },
    {
     "data": {
      "text/plain": [
       "Text(0.5,0,'iterations')"
      ]
     },
     "execution_count": 303,
     "metadata": {},
     "output_type": "execute_result"
    },
    {
     "data": {
      "image/png": "[encoded data removed]",
      "text/plain": [
       "<Figure size 432x288 with 1 Axes>"
      ]
     },
     "metadata": {},
     "output_type": "display_data"
    }
   ],
   "source": [
    "learning_rate = 0.003 # slowly update the network\n",
    "errors=[]\n",
    "for epoch in range(50000):\n",
    "    l1 = 1/(1 + np.exp(-(np.dot(X, w1)))) # sigmoid function\n",
    "    l2 = 1/(1 + np.exp(-(np.dot(l1, w2))))\n",
    "    l3 = 1/(1 + np.exp(-(np.dot(l2, w3))))\n",
    "    l4 = 1/(1 + np.exp(-(np.dot(l3, w4))))\n",
    "    l5 = 1/(1 + np.exp(-(np.dot(l4, w5))))\n",
    "    er = (abs(y - l5)).mean()\n",
    "    errors.append(er)\n",
    "    \n",
    "    l5_delta = (y-l5)*(l5*(1-l5))\n",
    "    l4_delta = l5_delta.dot(w5.T)*(l4*(1-l4))\n",
    "    l3_delta = l4_delta.dot(w4.T)*(l3*(1-l3))\n",
    "    l2_delta = l3_delta.dot(w3.T)*(l2 * (1-l2))\n",
    "    l1_delta = l2_delta.dot(w2.T) * (l1 * (1-l1))\n",
    "    \n",
    "    w5 += l4.T.dot(l5_delta) * learning_rate\n",
    "    w4 += l3.T.dot(l4_delta) * learning_rate\n",
    "    w3 += l2.T.dot(l3_delta) * learning_rate\n",
    "    w2 += l1.T.dot(l2_delta) * learning_rate\n",
    "    w1 += X.T.dot(l1_delta) * learning_rate\n",
    "print('Error:', er)\n",
    "plt.plot(errors)\n",
    "plt.title(\"Learning rate =\" + str(learning_rate))\n",
    "plt.ylabel('cost')\n",
    "plt.xlabel('iterations')"
   ]
  },
  {
   "cell_type": "code",
   "execution_count": 304,
   "metadata": {},
   "outputs": [],
   "source": [
    "l1 = 1/(1 + np.exp(-(np.dot(X, w1))))\n",
    "l2 = 1/(1 + np.exp(-(np.dot(l1, w2))))\n",
    "l3 = 1/(1+np.exp(-(np.dot(l2,w3))))\n",
    "l4 = 1/(1+np.exp(-(np.dot(l3,w4))))\n",
    "l5 = 1/(1+np.exp(-(np.dot(l4,w5))))\n",
    "\n",
    "l5=(l5>=0.5)\n",
    "yptr=l5\n",
    "yptrreal=y"
   ]
  },
  {
   "cell_type": "code",
   "execution_count": 305,
   "metadata": {},
   "outputs": [],
   "source": [
    "X = test.values[:,:8]\n",
    "y = np.array([targets[int(x)] for x in test.values[:,8:9]])\n",
    "l1 = 1/(1 + np.exp(-(np.dot(X, w1))))\n",
    "l2 = 1/(1 + np.exp(-(np.dot(l1, w2))))\n",
    "l3 = 1/(1+np.exp(-(np.dot(l2,w3))))\n",
    "l4 = 1/(1+np.exp(-(np.dot(l3,w4))))\n",
    "l5 = 1/(1+np.exp(-(np.dot(l4,w5))))\n",
    "\n",
    "l5=(l5>=0.5)"
   ]
  },
  {
   "cell_type": "code",
   "execution_count": 306,
   "metadata": {},
   "outputs": [
    {
     "name": "stdout",
     "output_type": "stream",
     "text": [
      "train accuracy: 82.36220472440945 %\n",
      "test accuracy: 81.203007518797 %\n"
     ]
    }
   ],
   "source": [
    "yp=l5\n",
    "print(\"train accuracy: {} %\".format(100 - np.mean(np.abs(yptr - yptrreal)) * 100))\n",
    "print(\"test accuracy: {} %\".format(100 - np.mean(np.abs(yp - y)) * 100))"
   ]
  },
  {
   "cell_type": "code",
   "execution_count": null,
   "metadata": {},
   "outputs": [],
   "source": []
  },
  {
   "cell_type": "code",
   "execution_count": null,
   "metadata": {},
   "outputs": [],
   "source": []
  },
  {
   "cell_type": "code",
   "execution_count": null,
   "metadata": {},
   "outputs": [],
   "source": []
  },
  {
   "cell_type": "code",
   "execution_count": null,
   "metadata": {},
   "outputs": [],
   "source": []
  },
  {
   "cell_type": "code",
   "execution_count": null,
   "metadata": {},
   "outputs": [],
   "source": []
  }
 ],
 "metadata": {
  "kernelspec": {
   "display_name": "Python 3",
   "language": "python",
   "name": "python3"
  },
  "language_info": {
   "codemirror_mode": {
    "name": "ipython",
    "version": 3
   },
   "file_extension": ".py",
   "mimetype": "text/x-python",
   "name": "python",
   "nbconvert_exporter": "python",
   "pygments_lexer": "ipython3",
   "version": "3.6.5"
  }
 },
 "nbformat": 4,
 "nbformat_minor": 2
}
